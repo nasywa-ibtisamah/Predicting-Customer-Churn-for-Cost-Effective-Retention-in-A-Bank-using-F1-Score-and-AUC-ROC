{
 "cells": [
  {
   "cell_type": "markdown",
   "metadata": {},
   "source": [
    "<div style=\"border:solid black 2px; padding: 20px\">\n",
    "\n",
    "# Reviewer's feedback v.1\n",
    "\n",
    "**Halo Nasywa**\n",
    "    \n",
    "**Greetings from Chamdani**\n",
    "\n",
    "Terima kasih telah mengirimkan project kamu dengan ini kamu sudah memulai sebuah langkah yang luar biasa saat ini. Disini saya akan mereview proyek kamu ya.\n",
    "\n",
    "Saya akan memberikan beberapa komentar dan feedback seperti dibawah ini, **mohon jangan dipindah, dirubah, maupun dihapus ya :).**\n",
    "    \n",
    "> Mohon diperhatikan bahwa apabila ada temuan atau kesalahan yang sama namun tidak ada komentar perbaikan disana, itu berarti kamu masih tetap harus memperbaikinya yaa.\n",
    "\n",
    "Komentar yang saya berikan akan muncul dalam warna hijau, kuning, atau pun merah seperti ini:\n",
    "\n",
    "</div>"
   ]
  },
  {
   "cell_type": "markdown",
   "metadata": {},
   "source": [
    "<div class=\"alert alert-success\">\n",
    "<b>Chamdani's comment v.*</b> <a class=\"tocSkip\"></a>\n",
    "\n",
    "Bagus, semua berjalan lancar.\n",
    "\n",
    "</div>"
   ]
  },
  {
   "cell_type": "markdown",
   "metadata": {},
   "source": [
    "<div class=\"alert alert-warning\">\n",
    "<b>Chamdani's comment v.*</b> <a class=\"tocSkip\"></a>\n",
    "\n",
    "Ada beberapa catatan.\n",
    "\n",
    "</div>"
   ]
  },
  {
   "cell_type": "markdown",
   "metadata": {},
   "source": [
    "<div class=\"alert alert-danger\">\n",
    "<b>Chamdani's comment v.*</b> <a class=\"tocSkip\"></a>\n",
    "\n",
    "Perlu beberapa perbaikan.\n",
    "\n",
    "</div>"
   ]
  },
  {
   "cell_type": "markdown",
   "metadata": {},
   "source": [
    "<div class=\"alert alert-info\">\n",
    "<b>Chamdani's info v.1</b> <a class=\"tocSkip\"></a>\n",
    "\n",
    "Catatan umum:\n",
    "* Fungsi `print` tidak diperlukan untuk mencetak suatu nilai\n",
    "* Lebih baik tulis kode pada bagian akhir cell code untuk menampilkan output tanpa `print`\n",
    "* Perintah soal yang ada dalam tanda kurung siku `[...]` sebaiknya dihilangkan\n",
    "* Sangat disarankan untuk menggunakan cell markdown untuk memberikan deskripsi temuan atau kesimpulan.\n",
    "* Tidak disarankan menggunakan cell code untuk memberikan penjelasan / deskripsi.\n",
    "* Untuk menghindari galat pada notebook project kamu. Batasi jumlah output yang dikeluarkan setiap kode dengan batas max 10 baris data.\n",
    "\n",
    "</div>"
   ]
  },
  {
   "cell_type": "markdown",
   "metadata": {},
   "source": [
    "<div style=\"border:solid gray 5px; padding: 20px\" class=\"alert alert-warning\">\n",
    "\n",
    "**INGATLAH** \n",
    "* Project kamu tidak akan bisa diterima bila kamu masih memiliki feedback berwarna merah. \n",
    "* Kamu hanya memiliki 3 kali kesempatan iterasi submission disetiap projectnya \n",
    "* Kamu dapat memperbaiki dan menyelesaikan feedback **pertama** dari saya tidak lebih dari 1\\*24 jam setiap iterasinya. *Untuk membantu saya mengetahui apakah ada kesulitan dari feedback project kamu*\n",
    "* Jika merasa kesulitan kamu dapat menuliskan responmu atas feedback saya menggunakan blok markdown warna biru yaa."
   ]
  },
  {
   "cell_type": "markdown",
   "metadata": {},
   "source": [
    "Kamu dapat menjawab saya dengan menggunakan blok berwarna biru seperti ini"
   ]
  },
  {
   "cell_type": "markdown",
   "metadata": {},
   "source": [
    "<div class=\"alert alert-info\">\n",
    "<b>Student answer</b> <a class=\"tocSkip\"></a>\n",
    "\n",
    "Siap kak.\n",
    "\n",
    "</div>"
   ]
  },
  {
   "cell_type": "markdown",
   "metadata": {},
   "source": [
    "<div style=\"border:solid black 2px; padding: 20px\" class=\"alert alert-success\">\n",
    "    \n",
    "# General feedback v.1 *Project Accepted*\n",
    "\n",
    "Terima kasih banyak telah mengirimkan proyek Anda! \n",
    "<br>\n",
    "    \n",
    "Secara keseluruhan, proyek Anda **SANGAT** mengesankan. Semoga apa yang kamu pelajari dalam project ini dapat membantu meningkatkan kemampuanmu. Pertahankan apa yang sudah bagus, dan tingkatkan apa yang menurutmu masih perlu ditingkatkan. Semoga berhasil pada project selanjutnya yaa :)\n",
    "\n",
    "**TETAP SEMANGAT!!**\n",
    "    \n",
    "</div>"
   ]
  },
  {
   "cell_type": "markdown",
   "metadata": {},
   "source": [
    "## Deskripsi Proyek\n",
    "\n",
    "Saya adalah analis OilyGiant yang ingin memprediksi lokasi yang cocok untuk penggalian sumur minyak yang baru. Saya akan menggunakan data sampel minyak dari tiga wilayah. Model yang dibuat akan membantu OilyGiant untuk memilih wilayah dengan margin laba tertinggi."
   ]
  },
  {
   "cell_type": "markdown",
   "metadata": {},
   "source": [
    "## Tujuan Proyek\n",
    "\n",
    "Tujuan proyek ini adalah menyarankan suatu wilayah untuk pengembangan sumur minyak dengan menyertakan pembenaran atau alasan pemilihan wilayah. \n",
    "Dalam proses ini, akan dilakukan bootstrapping dengan 1.000 sampel untuk menemukan distribusi labanya. Dan juga akan dilakukan penghitungan laba dan risiko untuk setiap wilayah."
   ]
  },
  {
   "cell_type": "markdown",
   "metadata": {},
   "source": [
    "## Eksplorasi Dataset\n",
    "\n",
    "Pada tahap ini, akan dilakukan eksplorasi dataset dan juga mendeskripsikan kolom-kolom pada dataset."
   ]
  },
  {
   "cell_type": "markdown",
   "metadata": {},
   "source": [
    "<div class=\"alert alert-success\">\n",
    "<b>Chamdani's comment v.1</b> <a class=\"tocSkip\"></a>\n",
    "\n",
    "Bagus, semua berjalan lancar.\n",
    "\n",
    "</div>"
   ]
  },
  {
   "cell_type": "markdown",
   "metadata": {},
   "source": [
    "### Memuat Library"
   ]
  },
  {
   "cell_type": "code",
   "execution_count": 1,
   "metadata": {},
   "outputs": [],
   "source": [
    "# pengolahan dataset\n",
    "import pandas as pd, numpy as np\n",
    "# library untuk scientific computing\n",
    "import numpy as np\n",
    "\n",
    "from numpy.random import RandomState\n",
    "\n",
    "# import modul LinearRegression dari library scikit learn\n",
    "from sklearn.linear_model import LinearRegression\n",
    "\n",
    "# import modul Train Test Split untuk membagi data dari library scikit learn\n",
    "from sklearn.model_selection import train_test_split\n",
    "\n",
    "# import module shuffle agar proses shuffle array dilakukan secara konsisten\n",
    "from sklearn.utils import shuffle\n",
    "\n",
    "# import module mean squared error untuk penghitungan rata-rata Kesalahan kuadrat antara nilai aktual dan nilai peramalan.\n",
    "from sklearn.metrics import mean_squared_error\n",
    "\n",
    "# Library untuk mengetahui progress ketika proses bootstrapping\n",
    "from tqdm import tqdm\n",
    "\n",
    "# ignore warning\n",
    "import warnings\n",
    "from pandas.core.common import SettingWithCopyWarning\n",
    "warnings.filterwarnings(\"ignore\")"
   ]
  },
  {
   "cell_type": "markdown",
   "metadata": {},
   "source": [
    "<div class=\"alert alert-success\">\n",
    "<b>Chamdani's comment v.1</b> <a class=\"tocSkip\"></a>\n",
    "\n",
    "Bagus, semua berjalan lancar.\n",
    "\n",
    "</div>"
   ]
  },
  {
   "cell_type": "markdown",
   "metadata": {},
   "source": [
    "### Memuat Dataset"
   ]
  },
  {
   "cell_type": "code",
   "execution_count": 2,
   "metadata": {},
   "outputs": [],
   "source": [
    "# path dataset\n",
    "path_df_wilayah0 = '/datasets/geo_data_0.csv'\n",
    "path_df_wilayah1 = '/datasets/geo_data_1.csv'\n",
    "path_df_wilayah2 = '/datasets/geo_data_2.csv'"
   ]
  },
  {
   "cell_type": "code",
   "execution_count": 3,
   "metadata": {},
   "outputs": [],
   "source": [
    "# load dataset\n",
    "df0 = pd.read_csv(path_df_wilayah0)\n",
    "df1 = pd.read_csv(path_df_wilayah1)\n",
    "df2 = pd.read_csv(path_df_wilayah2)"
   ]
  },
  {
   "cell_type": "code",
   "execution_count": 4,
   "metadata": {},
   "outputs": [
    {
     "data": {
      "text/html": [
       "<div>\n",
       "<style scoped>\n",
       "    .dataframe tbody tr th:only-of-type {\n",
       "        vertical-align: middle;\n",
       "    }\n",
       "\n",
       "    .dataframe tbody tr th {\n",
       "        vertical-align: top;\n",
       "    }\n",
       "\n",
       "    .dataframe thead th {\n",
       "        text-align: right;\n",
       "    }\n",
       "</style>\n",
       "<table border=\"1\" class=\"dataframe\">\n",
       "  <thead>\n",
       "    <tr style=\"text-align: right;\">\n",
       "      <th></th>\n",
       "      <th>id</th>\n",
       "      <th>f0</th>\n",
       "      <th>f1</th>\n",
       "      <th>f2</th>\n",
       "      <th>product</th>\n",
       "    </tr>\n",
       "  </thead>\n",
       "  <tbody>\n",
       "    <tr>\n",
       "      <th>0</th>\n",
       "      <td>txEyH</td>\n",
       "      <td>0.705745</td>\n",
       "      <td>-0.497823</td>\n",
       "      <td>1.221170</td>\n",
       "      <td>105.280062</td>\n",
       "    </tr>\n",
       "    <tr>\n",
       "      <th>1</th>\n",
       "      <td>2acmU</td>\n",
       "      <td>1.334711</td>\n",
       "      <td>-0.340164</td>\n",
       "      <td>4.365080</td>\n",
       "      <td>73.037750</td>\n",
       "    </tr>\n",
       "    <tr>\n",
       "      <th>2</th>\n",
       "      <td>409Wp</td>\n",
       "      <td>1.022732</td>\n",
       "      <td>0.151990</td>\n",
       "      <td>1.419926</td>\n",
       "      <td>85.265647</td>\n",
       "    </tr>\n",
       "    <tr>\n",
       "      <th>3</th>\n",
       "      <td>iJLyR</td>\n",
       "      <td>-0.032172</td>\n",
       "      <td>0.139033</td>\n",
       "      <td>2.978566</td>\n",
       "      <td>168.620776</td>\n",
       "    </tr>\n",
       "    <tr>\n",
       "      <th>4</th>\n",
       "      <td>Xdl7t</td>\n",
       "      <td>1.988431</td>\n",
       "      <td>0.155413</td>\n",
       "      <td>4.751769</td>\n",
       "      <td>154.036647</td>\n",
       "    </tr>\n",
       "  </tbody>\n",
       "</table>\n",
       "</div>"
      ],
      "text/plain": [
       "      id        f0        f1        f2     product\n",
       "0  txEyH  0.705745 -0.497823  1.221170  105.280062\n",
       "1  2acmU  1.334711 -0.340164  4.365080   73.037750\n",
       "2  409Wp  1.022732  0.151990  1.419926   85.265647\n",
       "3  iJLyR -0.032172  0.139033  2.978566  168.620776\n",
       "4  Xdl7t  1.988431  0.155413  4.751769  154.036647"
      ]
     },
     "execution_count": 4,
     "metadata": {},
     "output_type": "execute_result"
    }
   ],
   "source": [
    "df0.head()"
   ]
  },
  {
   "cell_type": "code",
   "execution_count": 5,
   "metadata": {},
   "outputs": [
    {
     "data": {
      "text/html": [
       "<div>\n",
       "<style scoped>\n",
       "    .dataframe tbody tr th:only-of-type {\n",
       "        vertical-align: middle;\n",
       "    }\n",
       "\n",
       "    .dataframe tbody tr th {\n",
       "        vertical-align: top;\n",
       "    }\n",
       "\n",
       "    .dataframe thead th {\n",
       "        text-align: right;\n",
       "    }\n",
       "</style>\n",
       "<table border=\"1\" class=\"dataframe\">\n",
       "  <thead>\n",
       "    <tr style=\"text-align: right;\">\n",
       "      <th></th>\n",
       "      <th>id</th>\n",
       "      <th>f0</th>\n",
       "      <th>f1</th>\n",
       "      <th>f2</th>\n",
       "      <th>product</th>\n",
       "    </tr>\n",
       "  </thead>\n",
       "  <tbody>\n",
       "    <tr>\n",
       "      <th>0</th>\n",
       "      <td>kBEdx</td>\n",
       "      <td>-15.001348</td>\n",
       "      <td>-8.276000</td>\n",
       "      <td>-0.005876</td>\n",
       "      <td>3.179103</td>\n",
       "    </tr>\n",
       "    <tr>\n",
       "      <th>1</th>\n",
       "      <td>62mP7</td>\n",
       "      <td>14.272088</td>\n",
       "      <td>-3.475083</td>\n",
       "      <td>0.999183</td>\n",
       "      <td>26.953261</td>\n",
       "    </tr>\n",
       "    <tr>\n",
       "      <th>2</th>\n",
       "      <td>vyE1P</td>\n",
       "      <td>6.263187</td>\n",
       "      <td>-5.948386</td>\n",
       "      <td>5.001160</td>\n",
       "      <td>134.766305</td>\n",
       "    </tr>\n",
       "    <tr>\n",
       "      <th>3</th>\n",
       "      <td>KcrkZ</td>\n",
       "      <td>-13.081196</td>\n",
       "      <td>-11.506057</td>\n",
       "      <td>4.999415</td>\n",
       "      <td>137.945408</td>\n",
       "    </tr>\n",
       "    <tr>\n",
       "      <th>4</th>\n",
       "      <td>AHL4O</td>\n",
       "      <td>12.702195</td>\n",
       "      <td>-8.147433</td>\n",
       "      <td>5.004363</td>\n",
       "      <td>134.766305</td>\n",
       "    </tr>\n",
       "  </tbody>\n",
       "</table>\n",
       "</div>"
      ],
      "text/plain": [
       "      id         f0         f1        f2     product\n",
       "0  kBEdx -15.001348  -8.276000 -0.005876    3.179103\n",
       "1  62mP7  14.272088  -3.475083  0.999183   26.953261\n",
       "2  vyE1P   6.263187  -5.948386  5.001160  134.766305\n",
       "3  KcrkZ -13.081196 -11.506057  4.999415  137.945408\n",
       "4  AHL4O  12.702195  -8.147433  5.004363  134.766305"
      ]
     },
     "execution_count": 5,
     "metadata": {},
     "output_type": "execute_result"
    }
   ],
   "source": [
    "df1.head()"
   ]
  },
  {
   "cell_type": "code",
   "execution_count": 6,
   "metadata": {},
   "outputs": [
    {
     "data": {
      "text/html": [
       "<div>\n",
       "<style scoped>\n",
       "    .dataframe tbody tr th:only-of-type {\n",
       "        vertical-align: middle;\n",
       "    }\n",
       "\n",
       "    .dataframe tbody tr th {\n",
       "        vertical-align: top;\n",
       "    }\n",
       "\n",
       "    .dataframe thead th {\n",
       "        text-align: right;\n",
       "    }\n",
       "</style>\n",
       "<table border=\"1\" class=\"dataframe\">\n",
       "  <thead>\n",
       "    <tr style=\"text-align: right;\">\n",
       "      <th></th>\n",
       "      <th>id</th>\n",
       "      <th>f0</th>\n",
       "      <th>f1</th>\n",
       "      <th>f2</th>\n",
       "      <th>product</th>\n",
       "    </tr>\n",
       "  </thead>\n",
       "  <tbody>\n",
       "    <tr>\n",
       "      <th>0</th>\n",
       "      <td>fwXo0</td>\n",
       "      <td>-1.146987</td>\n",
       "      <td>0.963328</td>\n",
       "      <td>-0.828965</td>\n",
       "      <td>27.758673</td>\n",
       "    </tr>\n",
       "    <tr>\n",
       "      <th>1</th>\n",
       "      <td>WJtFt</td>\n",
       "      <td>0.262778</td>\n",
       "      <td>0.269839</td>\n",
       "      <td>-2.530187</td>\n",
       "      <td>56.069697</td>\n",
       "    </tr>\n",
       "    <tr>\n",
       "      <th>2</th>\n",
       "      <td>ovLUW</td>\n",
       "      <td>0.194587</td>\n",
       "      <td>0.289035</td>\n",
       "      <td>-5.586433</td>\n",
       "      <td>62.871910</td>\n",
       "    </tr>\n",
       "    <tr>\n",
       "      <th>3</th>\n",
       "      <td>q6cA6</td>\n",
       "      <td>2.236060</td>\n",
       "      <td>-0.553760</td>\n",
       "      <td>0.930038</td>\n",
       "      <td>114.572842</td>\n",
       "    </tr>\n",
       "    <tr>\n",
       "      <th>4</th>\n",
       "      <td>WPMUX</td>\n",
       "      <td>-0.515993</td>\n",
       "      <td>1.716266</td>\n",
       "      <td>5.899011</td>\n",
       "      <td>149.600746</td>\n",
       "    </tr>\n",
       "  </tbody>\n",
       "</table>\n",
       "</div>"
      ],
      "text/plain": [
       "      id        f0        f1        f2     product\n",
       "0  fwXo0 -1.146987  0.963328 -0.828965   27.758673\n",
       "1  WJtFt  0.262778  0.269839 -2.530187   56.069697\n",
       "2  ovLUW  0.194587  0.289035 -5.586433   62.871910\n",
       "3  q6cA6  2.236060 -0.553760  0.930038  114.572842\n",
       "4  WPMUX -0.515993  1.716266  5.899011  149.600746"
      ]
     },
     "execution_count": 6,
     "metadata": {},
     "output_type": "execute_result"
    }
   ],
   "source": [
    "df2.head()"
   ]
  },
  {
   "cell_type": "markdown",
   "metadata": {},
   "source": [
    "<div class=\"alert alert-success\">\n",
    "<b>Chamdani's comment v.1</b> <a class=\"tocSkip\"></a>\n",
    "\n",
    "Bagus, semua berjalan lancar.\n",
    "\n",
    "</div>"
   ]
  },
  {
   "cell_type": "markdown",
   "metadata": {},
   "source": [
    "### Kolom"
   ]
  },
  {
   "cell_type": "markdown",
   "metadata": {},
   "source": [
    "**Fitur**\n",
    "- `id` - ID unik sumur minyak\n",
    "- `f0, f1, f2` - tiga fitur titik\n",
    "\n",
    "**Target**\n",
    "- `product` - volume cadangan minyak di sumur (ribuan barel)."
   ]
  },
  {
   "cell_type": "markdown",
   "metadata": {},
   "source": [
    "### Deskripsi Data"
   ]
  },
  {
   "cell_type": "markdown",
   "metadata": {},
   "source": [
    "#### df0"
   ]
  },
  {
   "cell_type": "code",
   "execution_count": 7,
   "metadata": {},
   "outputs": [
    {
     "data": {
      "text/plain": [
       "(100000, 5)"
      ]
     },
     "execution_count": 7,
     "metadata": {},
     "output_type": "execute_result"
    }
   ],
   "source": [
    "# Mengetahui jumlah rows dan kolom pada dataset df0\n",
    "df0.shape"
   ]
  },
  {
   "cell_type": "code",
   "execution_count": 8,
   "metadata": {},
   "outputs": [
    {
     "name": "stdout",
     "output_type": "stream",
     "text": [
      "<class 'pandas.core.frame.DataFrame'>\n",
      "RangeIndex: 100000 entries, 0 to 99999\n",
      "Data columns (total 5 columns):\n",
      " #   Column   Non-Null Count   Dtype  \n",
      "---  ------   --------------   -----  \n",
      " 0   id       100000 non-null  object \n",
      " 1   f0       100000 non-null  float64\n",
      " 2   f1       100000 non-null  float64\n",
      " 3   f2       100000 non-null  float64\n",
      " 4   product  100000 non-null  float64\n",
      "dtypes: float64(4), object(1)\n",
      "memory usage: 3.8+ MB\n"
     ]
    }
   ],
   "source": [
    "# Mengetahui informasi jumlah rows pada masing-masing kolom dan tipe datanya\n",
    "df0.info()"
   ]
  },
  {
   "cell_type": "code",
   "execution_count": 9,
   "metadata": {},
   "outputs": [
    {
     "data": {
      "text/plain": [
       "id         0.0\n",
       "f0         0.0\n",
       "f1         0.0\n",
       "f2         0.0\n",
       "product    0.0\n",
       "dtype: float64"
      ]
     },
     "execution_count": 9,
     "metadata": {},
     "output_type": "execute_result"
    }
   ],
   "source": [
    "# Pengecekan apakah ada missing values pada masing-masing kolom\n",
    "df0.isnull().sum() / 100"
   ]
  },
  {
   "cell_type": "code",
   "execution_count": 10,
   "metadata": {},
   "outputs": [
    {
     "data": {
      "text/html": [
       "<div>\n",
       "<style scoped>\n",
       "    .dataframe tbody tr th:only-of-type {\n",
       "        vertical-align: middle;\n",
       "    }\n",
       "\n",
       "    .dataframe tbody tr th {\n",
       "        vertical-align: top;\n",
       "    }\n",
       "\n",
       "    .dataframe thead th {\n",
       "        text-align: right;\n",
       "    }\n",
       "</style>\n",
       "<table border=\"1\" class=\"dataframe\">\n",
       "  <thead>\n",
       "    <tr style=\"text-align: right;\">\n",
       "      <th></th>\n",
       "      <th>f0</th>\n",
       "      <th>f1</th>\n",
       "      <th>f2</th>\n",
       "      <th>product</th>\n",
       "    </tr>\n",
       "  </thead>\n",
       "  <tbody>\n",
       "    <tr>\n",
       "      <th>count</th>\n",
       "      <td>100000.000000</td>\n",
       "      <td>100000.000000</td>\n",
       "      <td>100000.000000</td>\n",
       "      <td>100000.000000</td>\n",
       "    </tr>\n",
       "    <tr>\n",
       "      <th>mean</th>\n",
       "      <td>0.500419</td>\n",
       "      <td>0.250143</td>\n",
       "      <td>2.502647</td>\n",
       "      <td>92.500000</td>\n",
       "    </tr>\n",
       "    <tr>\n",
       "      <th>std</th>\n",
       "      <td>0.871832</td>\n",
       "      <td>0.504433</td>\n",
       "      <td>3.248248</td>\n",
       "      <td>44.288691</td>\n",
       "    </tr>\n",
       "    <tr>\n",
       "      <th>min</th>\n",
       "      <td>-1.408605</td>\n",
       "      <td>-0.848218</td>\n",
       "      <td>-12.088328</td>\n",
       "      <td>0.000000</td>\n",
       "    </tr>\n",
       "    <tr>\n",
       "      <th>25%</th>\n",
       "      <td>-0.072580</td>\n",
       "      <td>-0.200881</td>\n",
       "      <td>0.287748</td>\n",
       "      <td>56.497507</td>\n",
       "    </tr>\n",
       "    <tr>\n",
       "      <th>50%</th>\n",
       "      <td>0.502360</td>\n",
       "      <td>0.250252</td>\n",
       "      <td>2.515969</td>\n",
       "      <td>91.849972</td>\n",
       "    </tr>\n",
       "    <tr>\n",
       "      <th>75%</th>\n",
       "      <td>1.073581</td>\n",
       "      <td>0.700646</td>\n",
       "      <td>4.715088</td>\n",
       "      <td>128.564089</td>\n",
       "    </tr>\n",
       "    <tr>\n",
       "      <th>max</th>\n",
       "      <td>2.362331</td>\n",
       "      <td>1.343769</td>\n",
       "      <td>16.003790</td>\n",
       "      <td>185.364347</td>\n",
       "    </tr>\n",
       "  </tbody>\n",
       "</table>\n",
       "</div>"
      ],
      "text/plain": [
       "                  f0             f1             f2        product\n",
       "count  100000.000000  100000.000000  100000.000000  100000.000000\n",
       "mean        0.500419       0.250143       2.502647      92.500000\n",
       "std         0.871832       0.504433       3.248248      44.288691\n",
       "min        -1.408605      -0.848218     -12.088328       0.000000\n",
       "25%        -0.072580      -0.200881       0.287748      56.497507\n",
       "50%         0.502360       0.250252       2.515969      91.849972\n",
       "75%         1.073581       0.700646       4.715088     128.564089\n",
       "max         2.362331       1.343769      16.003790     185.364347"
      ]
     },
     "execution_count": 10,
     "metadata": {},
     "output_type": "execute_result"
    }
   ],
   "source": [
    "# Mengetahui informasi statistik dari kolom numerical pada dataset\n",
    "df0.describe()"
   ]
  },
  {
   "cell_type": "markdown",
   "metadata": {},
   "source": [
    "**Kesimpulan tahap Eksplorasi Dataset df0**\n",
    "\n",
    "1. Tidak ada missing values pada df0\n",
    "2. Tipe data pada kolom sudah benar\n",
    "3. Akan dilakukan drop pada kolom id karena tidak digunakan."
   ]
  },
  {
   "cell_type": "markdown",
   "metadata": {},
   "source": [
    "<div class=\"alert alert-success\">\n",
    "<b>Chamdani's comment v.1</b> <a class=\"tocSkip\"></a>\n",
    "\n",
    "Bagus, semua berjalan lancar.\n",
    "\n",
    "</div>"
   ]
  },
  {
   "cell_type": "markdown",
   "metadata": {},
   "source": [
    "#### df1"
   ]
  },
  {
   "cell_type": "code",
   "execution_count": 11,
   "metadata": {},
   "outputs": [
    {
     "data": {
      "text/plain": [
       "(100000, 5)"
      ]
     },
     "execution_count": 11,
     "metadata": {},
     "output_type": "execute_result"
    }
   ],
   "source": [
    "# Mengetahui jumlah rows dan kolom pada dataset df1\n",
    "df1.shape"
   ]
  },
  {
   "cell_type": "code",
   "execution_count": 12,
   "metadata": {},
   "outputs": [
    {
     "name": "stdout",
     "output_type": "stream",
     "text": [
      "<class 'pandas.core.frame.DataFrame'>\n",
      "RangeIndex: 100000 entries, 0 to 99999\n",
      "Data columns (total 5 columns):\n",
      " #   Column   Non-Null Count   Dtype  \n",
      "---  ------   --------------   -----  \n",
      " 0   id       100000 non-null  object \n",
      " 1   f0       100000 non-null  float64\n",
      " 2   f1       100000 non-null  float64\n",
      " 3   f2       100000 non-null  float64\n",
      " 4   product  100000 non-null  float64\n",
      "dtypes: float64(4), object(1)\n",
      "memory usage: 3.8+ MB\n"
     ]
    }
   ],
   "source": [
    "# Mengetahui informasi jumlah rows pada masing-masing kolom dan tipe datanya\n",
    "df1.info()"
   ]
  },
  {
   "cell_type": "code",
   "execution_count": 13,
   "metadata": {},
   "outputs": [
    {
     "data": {
      "text/plain": [
       "id         0.0\n",
       "f0         0.0\n",
       "f1         0.0\n",
       "f2         0.0\n",
       "product    0.0\n",
       "dtype: float64"
      ]
     },
     "execution_count": 13,
     "metadata": {},
     "output_type": "execute_result"
    }
   ],
   "source": [
    "# Pengecekan apakah ada missing values pada masing-masing kolom\n",
    "df1.isnull().sum() / 100"
   ]
  },
  {
   "cell_type": "code",
   "execution_count": 14,
   "metadata": {},
   "outputs": [
    {
     "data": {
      "text/html": [
       "<div>\n",
       "<style scoped>\n",
       "    .dataframe tbody tr th:only-of-type {\n",
       "        vertical-align: middle;\n",
       "    }\n",
       "\n",
       "    .dataframe tbody tr th {\n",
       "        vertical-align: top;\n",
       "    }\n",
       "\n",
       "    .dataframe thead th {\n",
       "        text-align: right;\n",
       "    }\n",
       "</style>\n",
       "<table border=\"1\" class=\"dataframe\">\n",
       "  <thead>\n",
       "    <tr style=\"text-align: right;\">\n",
       "      <th></th>\n",
       "      <th>f0</th>\n",
       "      <th>f1</th>\n",
       "      <th>f2</th>\n",
       "      <th>product</th>\n",
       "    </tr>\n",
       "  </thead>\n",
       "  <tbody>\n",
       "    <tr>\n",
       "      <th>count</th>\n",
       "      <td>100000.000000</td>\n",
       "      <td>100000.000000</td>\n",
       "      <td>100000.000000</td>\n",
       "      <td>100000.000000</td>\n",
       "    </tr>\n",
       "    <tr>\n",
       "      <th>mean</th>\n",
       "      <td>1.141296</td>\n",
       "      <td>-4.796579</td>\n",
       "      <td>2.494541</td>\n",
       "      <td>68.825000</td>\n",
       "    </tr>\n",
       "    <tr>\n",
       "      <th>std</th>\n",
       "      <td>8.965932</td>\n",
       "      <td>5.119872</td>\n",
       "      <td>1.703572</td>\n",
       "      <td>45.944423</td>\n",
       "    </tr>\n",
       "    <tr>\n",
       "      <th>min</th>\n",
       "      <td>-31.609576</td>\n",
       "      <td>-26.358598</td>\n",
       "      <td>-0.018144</td>\n",
       "      <td>0.000000</td>\n",
       "    </tr>\n",
       "    <tr>\n",
       "      <th>25%</th>\n",
       "      <td>-6.298551</td>\n",
       "      <td>-8.267985</td>\n",
       "      <td>1.000021</td>\n",
       "      <td>26.953261</td>\n",
       "    </tr>\n",
       "    <tr>\n",
       "      <th>50%</th>\n",
       "      <td>1.153055</td>\n",
       "      <td>-4.813172</td>\n",
       "      <td>2.011479</td>\n",
       "      <td>57.085625</td>\n",
       "    </tr>\n",
       "    <tr>\n",
       "      <th>75%</th>\n",
       "      <td>8.621015</td>\n",
       "      <td>-1.332816</td>\n",
       "      <td>3.999904</td>\n",
       "      <td>107.813044</td>\n",
       "    </tr>\n",
       "    <tr>\n",
       "      <th>max</th>\n",
       "      <td>29.421755</td>\n",
       "      <td>18.734063</td>\n",
       "      <td>5.019721</td>\n",
       "      <td>137.945408</td>\n",
       "    </tr>\n",
       "  </tbody>\n",
       "</table>\n",
       "</div>"
      ],
      "text/plain": [
       "                  f0             f1             f2        product\n",
       "count  100000.000000  100000.000000  100000.000000  100000.000000\n",
       "mean        1.141296      -4.796579       2.494541      68.825000\n",
       "std         8.965932       5.119872       1.703572      45.944423\n",
       "min       -31.609576     -26.358598      -0.018144       0.000000\n",
       "25%        -6.298551      -8.267985       1.000021      26.953261\n",
       "50%         1.153055      -4.813172       2.011479      57.085625\n",
       "75%         8.621015      -1.332816       3.999904     107.813044\n",
       "max        29.421755      18.734063       5.019721     137.945408"
      ]
     },
     "execution_count": 14,
     "metadata": {},
     "output_type": "execute_result"
    }
   ],
   "source": [
    "# Mengetahui informasi statistik dari kolom numerical pada dataset\n",
    "df1.describe()"
   ]
  },
  {
   "cell_type": "markdown",
   "metadata": {},
   "source": [
    "**Kesimpulan tahap Eksplorasi Dataset df1**\n",
    "\n",
    "1. Tidak ada missing values pada df1\n",
    "2. Tipe data pada kolom sudah benar\n",
    "3. Akan dilakukan drop pada kolom id karena tidak digunakan."
   ]
  },
  {
   "cell_type": "markdown",
   "metadata": {},
   "source": [
    "<div class=\"alert alert-success\">\n",
    "<b>Chamdani's comment v.1</b> <a class=\"tocSkip\"></a>\n",
    "\n",
    "Bagus, semua berjalan lancar.\n",
    "\n",
    "</div>"
   ]
  },
  {
   "cell_type": "markdown",
   "metadata": {},
   "source": [
    "#### df2"
   ]
  },
  {
   "cell_type": "code",
   "execution_count": 15,
   "metadata": {},
   "outputs": [
    {
     "data": {
      "text/plain": [
       "(100000, 5)"
      ]
     },
     "execution_count": 15,
     "metadata": {},
     "output_type": "execute_result"
    }
   ],
   "source": [
    "# Mengetahui jumlah rows dan kolom pada dataset df2\n",
    "df2.shape"
   ]
  },
  {
   "cell_type": "code",
   "execution_count": 16,
   "metadata": {},
   "outputs": [
    {
     "name": "stdout",
     "output_type": "stream",
     "text": [
      "<class 'pandas.core.frame.DataFrame'>\n",
      "RangeIndex: 100000 entries, 0 to 99999\n",
      "Data columns (total 5 columns):\n",
      " #   Column   Non-Null Count   Dtype  \n",
      "---  ------   --------------   -----  \n",
      " 0   id       100000 non-null  object \n",
      " 1   f0       100000 non-null  float64\n",
      " 2   f1       100000 non-null  float64\n",
      " 3   f2       100000 non-null  float64\n",
      " 4   product  100000 non-null  float64\n",
      "dtypes: float64(4), object(1)\n",
      "memory usage: 3.8+ MB\n"
     ]
    }
   ],
   "source": [
    "# Mengetahui informasi jumlah rows pada masing-masing kolom dan tipe datanya\n",
    "df2.info()"
   ]
  },
  {
   "cell_type": "code",
   "execution_count": 17,
   "metadata": {},
   "outputs": [
    {
     "data": {
      "text/plain": [
       "id         0.0\n",
       "f0         0.0\n",
       "f1         0.0\n",
       "f2         0.0\n",
       "product    0.0\n",
       "dtype: float64"
      ]
     },
     "execution_count": 17,
     "metadata": {},
     "output_type": "execute_result"
    }
   ],
   "source": [
    "# Pengecekan apakah ada missing values pada masing-masing kolom\n",
    "df2.isnull().sum() / 100"
   ]
  },
  {
   "cell_type": "code",
   "execution_count": 18,
   "metadata": {},
   "outputs": [
    {
     "data": {
      "text/html": [
       "<div>\n",
       "<style scoped>\n",
       "    .dataframe tbody tr th:only-of-type {\n",
       "        vertical-align: middle;\n",
       "    }\n",
       "\n",
       "    .dataframe tbody tr th {\n",
       "        vertical-align: top;\n",
       "    }\n",
       "\n",
       "    .dataframe thead th {\n",
       "        text-align: right;\n",
       "    }\n",
       "</style>\n",
       "<table border=\"1\" class=\"dataframe\">\n",
       "  <thead>\n",
       "    <tr style=\"text-align: right;\">\n",
       "      <th></th>\n",
       "      <th>f0</th>\n",
       "      <th>f1</th>\n",
       "      <th>f2</th>\n",
       "      <th>product</th>\n",
       "    </tr>\n",
       "  </thead>\n",
       "  <tbody>\n",
       "    <tr>\n",
       "      <th>count</th>\n",
       "      <td>100000.000000</td>\n",
       "      <td>100000.000000</td>\n",
       "      <td>100000.000000</td>\n",
       "      <td>100000.000000</td>\n",
       "    </tr>\n",
       "    <tr>\n",
       "      <th>mean</th>\n",
       "      <td>0.002023</td>\n",
       "      <td>-0.002081</td>\n",
       "      <td>2.495128</td>\n",
       "      <td>95.000000</td>\n",
       "    </tr>\n",
       "    <tr>\n",
       "      <th>std</th>\n",
       "      <td>1.732045</td>\n",
       "      <td>1.730417</td>\n",
       "      <td>3.473445</td>\n",
       "      <td>44.749921</td>\n",
       "    </tr>\n",
       "    <tr>\n",
       "      <th>min</th>\n",
       "      <td>-8.760004</td>\n",
       "      <td>-7.084020</td>\n",
       "      <td>-11.970335</td>\n",
       "      <td>0.000000</td>\n",
       "    </tr>\n",
       "    <tr>\n",
       "      <th>25%</th>\n",
       "      <td>-1.162288</td>\n",
       "      <td>-1.174820</td>\n",
       "      <td>0.130359</td>\n",
       "      <td>59.450441</td>\n",
       "    </tr>\n",
       "    <tr>\n",
       "      <th>50%</th>\n",
       "      <td>0.009424</td>\n",
       "      <td>-0.009482</td>\n",
       "      <td>2.484236</td>\n",
       "      <td>94.925613</td>\n",
       "    </tr>\n",
       "    <tr>\n",
       "      <th>75%</th>\n",
       "      <td>1.158535</td>\n",
       "      <td>1.163678</td>\n",
       "      <td>4.858794</td>\n",
       "      <td>130.595027</td>\n",
       "    </tr>\n",
       "    <tr>\n",
       "      <th>max</th>\n",
       "      <td>7.238262</td>\n",
       "      <td>7.844801</td>\n",
       "      <td>16.739402</td>\n",
       "      <td>190.029838</td>\n",
       "    </tr>\n",
       "  </tbody>\n",
       "</table>\n",
       "</div>"
      ],
      "text/plain": [
       "                  f0             f1             f2        product\n",
       "count  100000.000000  100000.000000  100000.000000  100000.000000\n",
       "mean        0.002023      -0.002081       2.495128      95.000000\n",
       "std         1.732045       1.730417       3.473445      44.749921\n",
       "min        -8.760004      -7.084020     -11.970335       0.000000\n",
       "25%        -1.162288      -1.174820       0.130359      59.450441\n",
       "50%         0.009424      -0.009482       2.484236      94.925613\n",
       "75%         1.158535       1.163678       4.858794     130.595027\n",
       "max         7.238262       7.844801      16.739402     190.029838"
      ]
     },
     "execution_count": 18,
     "metadata": {},
     "output_type": "execute_result"
    }
   ],
   "source": [
    "# Mengetahui informasi statistik dari kolom numerical pada dataset\n",
    "df2.describe()"
   ]
  },
  {
   "cell_type": "markdown",
   "metadata": {},
   "source": [
    "**Kesimpulan tahap Eksplorasi Dataset df2**\n",
    "\n",
    "1. Tidak ada missing values pada df2\n",
    "2. Tipe data pada kolom sudah benar\n",
    "3. Akan dilakukan drop pada kolom id karena tidak digunakan."
   ]
  },
  {
   "cell_type": "markdown",
   "metadata": {},
   "source": [
    "<div class=\"alert alert-success\">\n",
    "<b>Chamdani's comment v.1</b> <a class=\"tocSkip\"></a>\n",
    "\n",
    "Bagus, semua berjalan lancar.\n",
    "\n",
    "</div>"
   ]
  },
  {
   "cell_type": "markdown",
   "metadata": {},
   "source": [
    "## Drop kolom yang tidak digunakan dan penggabungan ketiga wilayah ke 1 dataset"
   ]
  },
  {
   "cell_type": "code",
   "execution_count": 19,
   "metadata": {},
   "outputs": [],
   "source": [
    "all_data = [\n",
    "    df0.drop('id', axis =1),\n",
    "    df1.drop('id', axis =1),\n",
    "    df2.drop('id', axis =1),\n",
    "]"
   ]
  },
  {
   "cell_type": "markdown",
   "metadata": {},
   "source": [
    "<div class=\"alert alert-success\">\n",
    "<b>Chamdani's comment v.1</b> <a class=\"tocSkip\"></a>\n",
    "\n",
    "Bagus, semua berjalan lancar.\n",
    "\n",
    "</div>"
   ]
  },
  {
   "cell_type": "markdown",
   "metadata": {},
   "source": [
    "## Memisahkan Data dan Melatih Model"
   ]
  },
  {
   "cell_type": "code",
   "execution_count": 20,
   "metadata": {},
   "outputs": [
    {
     "name": "stdout",
     "output_type": "stream",
     "text": [
      "--------------------------------\n",
      "Training Result Geo Data 0\n",
      "Average Barrel Target: 92.50000000000001\n",
      "Average Barrel Predictions: 92.3987999065777\n",
      "RMSE Training: 37.756600350261685\n",
      "--------------------------------\n",
      "Training Result Geo Data 1\n",
      "Average Barrel Target: 68.82500000000002\n",
      "Average Barrel Predictions: 68.58780312701154\n",
      "RMSE Training: 0.8899472027156135\n",
      "--------------------------------\n",
      "Training Result Geo Data 2\n",
      "Average Barrel Target: 95.00000000000004\n",
      "Average Barrel Predictions: 95.09230341410031\n",
      "RMSE Training: 40.23735038140562\n"
     ]
    }
   ],
   "source": [
    "state = RandomState(42)\n",
    "\n",
    "samples_target = []\n",
    "samples_prediction = []\n",
    "\n",
    "for wilayah in range(len(all_data)):\n",
    "    data = all_data[wilayah]\n",
    "    \n",
    "    features = data.drop('product', axis = 1)\n",
    "    target = data['product']\n",
    "    # split training dan testing\n",
    "    features_train, features_valid, target_train, target_valid = train_test_split(features, target, test_size=0.25, random_state = state)\n",
    "    \n",
    "    # training model\n",
    "    # definisi model Linear Regression\n",
    "    model = LinearRegression()\n",
    "    # latih model pada training set\n",
    "    model.fit(features_train, target_train)\n",
    "    # membuat prediksi menggunakan training set\n",
    "    predictions = model.predict(features_valid)\n",
    "    \n",
    "    samples_target.append(target_valid.reset_index(drop=True))\n",
    "    samples_prediction.append(pd.Series(predictions))\n",
    "\n",
    "    # Mengetahui root mean squared error pada training dataset\n",
    "    rmse_train = np.sqrt(mean_squared_error(target_valid, predictions))\n",
    "    # Average Barrel\n",
    "    avg_product_target = target.mean()\n",
    "    avg_product_predictions = predictions.mean()\n",
    "    \n",
    "    # menampilkan hasil\n",
    "    print('--------------------------------')\n",
    "    print(f'Training Result Geo Data {wilayah}')\n",
    "    print(f'Average Barrel Target: {avg_product_target}')\n",
    "    print(f'Average Barrel Predictions: {avg_product_predictions}')\n",
    "    print(f'RMSE Training: {rmse_train}')"
   ]
  },
  {
   "cell_type": "markdown",
   "metadata": {},
   "source": [
    "**Hasil Analisis:**\n",
    "\n",
    "1. Jika dilihat dari rata-rata cadangan product atau minyak, maka Wilayah 2 memiliki nilai paling tinggi.\n",
    "2. Jika dilihat dari nilai RMSE, dapat dilihat bahwa df1 memiliki RMSE paling kecil (range average error). Hal ini menggambarkan bahwa angka pasti nilai average barrel yaitu  diantara 67.81 (68.72-0.89) sampai dengan 69.7 (68.72+0.89)"
   ]
  },
  {
   "cell_type": "markdown",
   "metadata": {},
   "source": [
    "<div class=\"alert alert-success\">\n",
    "<b>Chamdani's comment v.1</b> <a class=\"tocSkip\"></a>\n",
    "\n",
    "Bagus, semua berjalan lancar.\n",
    "\n",
    "</div>"
   ]
  },
  {
   "cell_type": "markdown",
   "metadata": {},
   "source": [
    "## Persiapan Penghitungan Laba"
   ]
  },
  {
   "cell_type": "markdown",
   "metadata": {},
   "source": [
    "**Tahapan Persiapan**\n",
    "\n",
    "1. Penyimpanan nilai kunci untuk perhitungan laba pada variabel-variabel terpisah."
   ]
  },
  {
   "cell_type": "code",
   "execution_count": 22,
   "metadata": {},
   "outputs": [
    {
     "data": {
      "text/plain": [
       "200"
      ]
     },
     "execution_count": 22,
     "metadata": {},
     "output_type": "execute_result"
    }
   ],
   "source": [
    "# penyimpanan nilai kunci\n",
    "product_price = 4500\n",
    "total_cost = 100000000 # 100 juta USD\n",
    "points = 200\n",
    "cost_per_point = total_cost/points\n",
    "point_per_cost = int(total_cost / cost_per_point)\n",
    "point_per_cost"
   ]
  },
  {
   "cell_type": "markdown",
   "metadata": {},
   "source": [
    "<div class=\"alert alert-success\">\n",
    "<b>Chamdani's comment v.1</b> <a class=\"tocSkip\"></a>\n",
    "\n",
    "Bagus, semua berjalan lancar.\n",
    "\n",
    "</div>"
   ]
  },
  {
   "cell_type": "markdown",
   "metadata": {},
   "source": [
    "## Menghitung Profit Pada 200 titik tertinggi"
   ]
  },
  {
   "cell_type": "markdown",
   "metadata": {},
   "source": [
    "**Proses yang akan dilakukan pada tahap ini adalah sebagai berikut:**\n",
    "\n",
    "Pembuatan fungsi untuk mengetahui:\n",
    "- profit paling tinggi dari ketiga wilayah\n",
    "- total cost, total income\n",
    "- total cadangan minyak\n",
    "- sumur dengan nilai prediksi paling tinggi\n",
    "\n",
    "Dalam pembuatan fungsi, akan mempertimbangkan hal-hal berikut ini:\n",
    "\n",
    "a. Hanya akan dipilih top 200 sumur\n",
    "\n",
    "b. Anggaran untuk mengembangkan 200 sumur minyak adalah 100 juta USD. (total_cost)\n",
    "\n",
    "c. Income adalah 4500 per 1000 barel (income)\n",
    "\n",
    "Kemudian, akan dihitung target (real) volume cadangan minyak berdasarkan prediksi-prediksi yang telah dibuat."
   ]
  },
  {
   "cell_type": "markdown",
   "metadata": {},
   "source": [
    "### Pembuatan Fungsi untuk menghitung profit pada data prediksi"
   ]
  },
  {
   "cell_type": "code",
   "execution_count": 24,
   "metadata": {},
   "outputs": [],
   "source": [
    "# fungsi untuk menghitung laba dari kumpulan sumur terpilih pada data prediksi\n",
    "def profitability(prediction, name, income=4500, total_cost = 100000000, points = 200):\n",
    "    prediction = prediction[name]\n",
    "    prediction_top200 = prediction.sort_values(ascending=False)[:points].reset_index()\n",
    "    total_minyak = prediction_top200[0].sum()\n",
    "    total_cost = round(total_cost/1000000)\n",
    "    total_income = round(income * total_minyak/1000000)\n",
    "    profit = round(total_income - total_cost)\n",
    "    \n",
    "    # menampilkan hasil\n",
    "    print('-------------------------------')\n",
    "    print(f'Profitability Geo Data: {name}')\n",
    "    print(f'Profit: {profit}', 'M USD')\n",
    "    print(f'Total Cost: {total_cost}', 'M USD')\n",
    "    print(f'Total Income: {total_income}', 'M USD')\n",
    "    print(f'Total Cadangan Minyak: {total_minyak}')"
   ]
  },
  {
   "cell_type": "code",
   "execution_count": 25,
   "metadata": {},
   "outputs": [
    {
     "name": "stdout",
     "output_type": "stream",
     "text": [
      "-------------------------------\n",
      "Profitability Geo Data: 0\n",
      "Profit: 39 M USD\n",
      "Total Cost: 100 M USD\n",
      "Total Income: 139 M USD\n",
      "Total Cadangan Minyak: 30881.463288146995\n",
      "-------------------------------\n",
      "Profitability Geo Data: 1\n",
      "Profit: 25 M USD\n",
      "Total Cost: 100 M USD\n",
      "Total Income: 125 M USD\n",
      "Total Cadangan Minyak: 27746.394260320503\n",
      "-------------------------------\n",
      "Profitability Geo Data: 2\n",
      "Profit: 35 M USD\n",
      "Total Cost: 100 M USD\n",
      "Total Income: 135 M USD\n",
      "Total Cadangan Minyak: 29941.147885588958\n"
     ]
    }
   ],
   "source": [
    "# Implementasi fungsi untuk mengetahui profit dan cadangan minyak\n",
    "profitability(prediction=samples_prediction, name = 0)\n",
    "profitability(prediction=samples_prediction, name = 1)\n",
    "profitability(prediction=samples_prediction, name = 2)"
   ]
  },
  {
   "cell_type": "markdown",
   "metadata": {},
   "source": [
    "**Kesimpulan**\n",
    "\n",
    "1. Dari hasil fungsi yang telah dibuat, dapat diketahui bahwa Wilayah Geo Data 0 memiliki profit paling tinggi, total income paling tinggi, total cadangan minyak paling tinggi, dan volume cadangan minyak pada sumur (yang paling tinggi) tertinggi juga.\n",
    "2. Hasil ini belum final, dikarenakan harus mempertimbangkan nilai RMSE pada proses sebelumnya, dimana wilayah Geo Data 0 memiliki risiko yang tinggi 37%."
   ]
  },
  {
   "cell_type": "markdown",
   "metadata": {},
   "source": [
    "<div class=\"alert alert-success\">\n",
    "<b>Chamdani's comment v.1</b> <a class=\"tocSkip\"></a>\n",
    "\n",
    "Bagus, semua berjalan lancar.\n",
    "\n",
    "</div>"
   ]
  },
  {
   "cell_type": "markdown",
   "metadata": {},
   "source": [
    "### Pembuatan Fungsi untuk menghitung profit pada data real berdasrkan hasil prediksi top200"
   ]
  },
  {
   "cell_type": "code",
   "execution_count": 26,
   "metadata": {},
   "outputs": [],
   "source": [
    "# mengambil prediksi top 200 sumur minyak\n",
    "top200_predictions = samples_prediction[0].sort_values(ascending=False)[:point_per_cost]"
   ]
  },
  {
   "cell_type": "code",
   "execution_count": 27,
   "metadata": {},
   "outputs": [
    {
     "data": {
      "text/plain": [
       "6958     176.536104\n",
       "18194    176.274510\n",
       "17251    173.249504\n",
       "457      172.802708\n",
       "2202     172.744977\n",
       "            ...    \n",
       "8772     146.952653\n",
       "15975    146.948764\n",
       "7846     146.947483\n",
       "6633     146.946515\n",
       "7154     146.874947\n",
       "Length: 200, dtype: float64"
      ]
     },
     "execution_count": 27,
     "metadata": {},
     "output_type": "execute_result"
    }
   ],
   "source": [
    "top200_predictions"
   ]
  },
  {
   "cell_type": "code",
   "execution_count": 28,
   "metadata": {},
   "outputs": [
    {
     "data": {
      "text/plain": [
       "6958     153.639837\n",
       "18194    140.631646\n",
       "17251    178.879516\n",
       "457      176.807828\n",
       "2202     130.985681\n",
       "            ...    \n",
       "8772     132.951877\n",
       "15975    136.027691\n",
       "7846     162.142530\n",
       "6633     120.536962\n",
       "7154     138.424174\n",
       "Name: product, Length: 200, dtype: float64"
      ]
     },
     "execution_count": 28,
     "metadata": {},
     "output_type": "execute_result"
    }
   ],
   "source": [
    "# mencocokkan index pada hasil prediksi dengan data samples_target\n",
    "top200_target = samples_target[0][top200_predictions.index]\n",
    "top200_target"
   ]
  },
  {
   "cell_type": "code",
   "execution_count": 29,
   "metadata": {},
   "outputs": [
    {
     "data": {
      "text/plain": [
       "29686.9802543604"
      ]
     },
     "execution_count": 29,
     "metadata": {},
     "output_type": "execute_result"
    }
   ],
   "source": [
    "# penghitungan jumlah total product atau minyak\n",
    "total_product = top200_target.sum()\n",
    "total_product"
   ]
  },
  {
   "cell_type": "code",
   "execution_count": 30,
   "metadata": {},
   "outputs": [
    {
     "data": {
      "text/plain": [
       "133591411.14462179"
      ]
     },
     "execution_count": 30,
     "metadata": {},
     "output_type": "execute_result"
    }
   ],
   "source": [
    "# penghitungan revenue\n",
    "revenue = total_product*4500\n",
    "revenue"
   ]
  },
  {
   "cell_type": "code",
   "execution_count": 31,
   "metadata": {
    "scrolled": true
   },
   "outputs": [
    {
     "data": {
      "text/plain": [
       "33591411.14462179"
      ]
     },
     "execution_count": 31,
     "metadata": {},
     "output_type": "execute_result"
    }
   ],
   "source": [
    "# penghitungan profit\n",
    "profit = revenue - total_cost\n",
    "profit"
   ]
  },
  {
   "cell_type": "markdown",
   "metadata": {},
   "source": [
    "<div class=\"alert alert-success\">\n",
    "<b>Chamdani's comment v.1</b> <a class=\"tocSkip\"></a>\n",
    "\n",
    "Bagus, semua berjalan lancar.\n",
    "\n",
    "</div>"
   ]
  },
  {
   "cell_type": "markdown",
   "metadata": {},
   "source": [
    "**Dari langkah-langkah penghitungan profit real diatas, dibuat fungsi untuk menghitung profit, seperti dibawah:**"
   ]
  },
  {
   "cell_type": "code",
   "execution_count": 32,
   "metadata": {},
   "outputs": [],
   "source": [
    "# fungsi untuk menghitung profit\n",
    "\n",
    "def target_profit(target, predictions):\n",
    "    predictions_sorted = predictions.sort_values(ascending=False)\n",
    "    selected_points = target[predictions_sorted.index][:point_per_cost]\n",
    "    product = selected_points.sum()\n",
    "    revenue = product * product_price\n",
    "    profit = revenue - total_cost\n",
    "    return profit"
   ]
  },
  {
   "cell_type": "code",
   "execution_count": 33,
   "metadata": {},
   "outputs": [
    {
     "name": "stdout",
     "output_type": "stream",
     "text": [
      "Profit real berdasarkan hasil prediksi pada wilayah 0: 33591411.14462179\n",
      "Profit real berdasarkan hasil prediksi pada wilayah 1: 24150866.966815114\n",
      "Profit real berdasarkan hasil prediksi pada wilayah 2: 25841568.87152408\n"
     ]
    }
   ],
   "source": [
    "# menerapkan fungsi pada masing-masing wilayah\n",
    "print('Profit real berdasarkan hasil prediksi pada wilayah 0:',target_profit(samples_target[0], samples_prediction[0]))\n",
    "print('Profit real berdasarkan hasil prediksi pada wilayah 1:',target_profit(samples_target[1], samples_prediction[1]))\n",
    "print('Profit real berdasarkan hasil prediksi pada wilayah 2:',target_profit(samples_target[2], samples_prediction[2]))"
   ]
  },
  {
   "cell_type": "markdown",
   "metadata": {},
   "source": [
    "**Kesimpulan**\n",
    "\n",
    "1. Dari hasil fungsi yang telah dibuat, dapat diketahui bahwa Wilayah Geo Data 0 pada data real memiliki profit paling tinggi, yaitu sebanyak 34 M USD.\n",
    "2. Hasil ini belum final, dikarenakan harus mempertimbangkan nilai RMSE pada proses sebelumnya, dimana wilayah Geo Data 0 memiliki risiko yang tinggi 37%."
   ]
  },
  {
   "cell_type": "markdown",
   "metadata": {},
   "source": [
    "<div class=\"alert alert-success\">\n",
    "<b>Chamdani's comment v.1</b> <a class=\"tocSkip\"></a>\n",
    "\n",
    "Bagus, semua berjalan lancar.\n",
    "\n",
    "</div>"
   ]
  },
  {
   "cell_type": "markdown",
   "metadata": {},
   "source": [
    "### Perbandingan Nilai Profit pada data prediksi dan data real"
   ]
  },
  {
   "cell_type": "markdown",
   "metadata": {},
   "source": [
    "Pada data prediksi, nilai profit pada wilayah 0 adalah 40M USD. Sedangkan, jika menggunakan data real(samples_target) nilai profit pada wilayah 0 adalah 33M USD.\n",
    "Sehingga, ada kesalahan sekitar 7M pada data prediksi."
   ]
  },
  {
   "cell_type": "markdown",
   "metadata": {},
   "source": [
    "## Penghitungan Risiko dan Laba dengan menggunakan Teknik Bootstrapping"
   ]
  },
  {
   "cell_type": "markdown",
   "metadata": {},
   "source": [
    "**Kondisi**\n",
    "\n",
    "1. Dalam penggunaan teknik bootstrapping, akan diambil samplek top 500, dengan dilakukan pengulangan sebanyak 1,000 kali. \n",
    "2. Dari hasil bootstrapping, maka akan diambil top 200 (200 titik terbaik) untuk penghitungan laba.\n",
    "3. Selang kepercayaan yang digunakan adalah 95%, dengan mengambil 2,5% dari ujuang atas dan ujung bawah\n",
    "4. Pertahankan hanya wilayah dengan risiko kerugian lebih rendah dari 2,5%. Dari daftar wilayah yang memenuhi kriteria, pilihlah wilayah dengan rata-rata laba tertinggi."
   ]
  },
  {
   "cell_type": "markdown",
   "metadata": {},
   "source": [
    "<div class=\"alert alert-success\">\n",
    "<b>Chamdani's comment v.1</b> <a class=\"tocSkip\"></a>\n",
    "\n",
    "Bagus, semua berjalan lancar.\n",
    "\n",
    "</div>"
   ]
  },
  {
   "cell_type": "markdown",
   "metadata": {},
   "source": [
    "### Pembuatan Fungsi untuk menghitung profit"
   ]
  },
  {
   "cell_type": "code",
   "execution_count": 34,
   "metadata": {},
   "outputs": [],
   "source": [
    "sample_size = 500\n",
    "bootstrap_size = 1000"
   ]
  },
  {
   "cell_type": "code",
   "execution_count": 35,
   "metadata": {},
   "outputs": [],
   "source": [
    "def calculate_profit_bootstrap(prediction, name, income=4500, total_cost = 100000000, points = 200):\n",
    "    predict_top200 = prediction.sort_values(ascending=False)[:points]\n",
    "    product = predict_top200.sum()\n",
    "    total_income = income * product\n",
    "    profit = total_income - total_cost\n",
    "    return profit"
   ]
  },
  {
   "cell_type": "code",
   "execution_count": 36,
   "metadata": {},
   "outputs": [],
   "source": [
    "# fungsi untuk menghitung profit\n",
    "\n",
    "def profit(target, predictions):\n",
    "    predictions_sorted = predictions.sort_values(ascending=False)\n",
    "    selected_points = target[predictions_sorted.index][:point_per_cost]\n",
    "    product = selected_points.sum()\n",
    "    revenue = product * product_price\n",
    "    profit = revenue - total_cost\n",
    "    return profit"
   ]
  },
  {
   "cell_type": "markdown",
   "metadata": {},
   "source": [
    "<div class=\"alert alert-success\">\n",
    "<b>Chamdani's comment v.1</b> <a class=\"tocSkip\"></a>\n",
    "\n",
    "Bagus, semua berjalan lancar.\n",
    "\n",
    "</div>"
   ]
  },
  {
   "cell_type": "markdown",
   "metadata": {},
   "source": [
    "### Penghitungan profit pada data prediksi menggunakan teknik bootstrapping"
   ]
  },
  {
   "cell_type": "code",
   "execution_count": 37,
   "metadata": {},
   "outputs": [
    {
     "name": "stderr",
     "output_type": "stream",
     "text": [
      "100%|██████████| 1000/1000 [00:00<00:00, 1211.01it/s]\n"
     ]
    },
    {
     "name": "stdout",
     "output_type": "stream",
     "text": [
      "-- Wilayah 0 --\n",
      "Mean Profit:  3324499.1511043045 USD\n",
      "95% confidence interval: (1010833.3330253005, 5593445.146503954)\n",
      "Risk of losses : 0.002\n",
      "\n"
     ]
    },
    {
     "name": "stderr",
     "output_type": "stream",
     "text": [
      "100%|██████████| 1000/1000 [00:00<00:00, 1110.44it/s]\n"
     ]
    },
    {
     "name": "stdout",
     "output_type": "stream",
     "text": [
      "-- Wilayah 1 --\n",
      "Mean Profit:  4269058.93421017 USD\n",
      "95% confidence interval: (348183.1922796317, 8115279.249680298)\n",
      "Risk of losses : 0.016\n",
      "\n"
     ]
    },
    {
     "name": "stderr",
     "output_type": "stream",
     "text": [
      "100%|██████████| 1000/1000 [00:00<00:00, 1171.94it/s]"
     ]
    },
    {
     "name": "stdout",
     "output_type": "stream",
     "text": [
      "-- Wilayah 2 --\n",
      "Mean Profit:  3017845.5962736136 USD\n",
      "95% confidence interval: (1167160.831588246, 5002914.4776899135)\n",
      "Risk of losses : 0.001\n",
      "\n"
     ]
    },
    {
     "name": "stderr",
     "output_type": "stream",
     "text": [
      "\n"
     ]
    }
   ],
   "source": [
    "for wilayah in range(3):\n",
    "    \n",
    "    target = samples_target[wilayah]\n",
    "    predictions = samples_prediction[wilayah]\n",
    "    \n",
    "    profit_values = []\n",
    "    \n",
    "    for i in tqdm(range(bootstrap_size)):\n",
    "        target_sample= target.sample(n=sample_size, replace = True, random_state = state)\n",
    "        prediction_sample= predictions[target_sample.index]\n",
    "        profit_values.append(calculate_profit_bootstrap(prediction= prediction_sample, name=wilayah))\n",
    "        \n",
    "    profit_values = pd.Series(profit_values)\n",
    "    \n",
    "    mean_profit = profit_values.mean()\n",
    "    confidence_interval = (profit_values.quantile(0.025), profit_values.quantile(0.975))\n",
    "    negative_profit_chance = (profit_values <0).mean()\n",
    "    \n",
    "    print('-- Wilayah', wilayah, '--')\n",
    "    print('Mean Profit: ', mean_profit, 'USD')\n",
    "    print('95% confidence interval:', confidence_interval)\n",
    "    print('Risk of losses :', negative_profit_chance)\n",
    "    print()"
   ]
  },
  {
   "cell_type": "markdown",
   "metadata": {},
   "source": [
    "**Hasil Analisis**\n",
    "\n",
    "Jika menggunakan data prediksi untuk menghitung Profit, maka rata-rata profit tertinggi ada pada wilayah 1, meskipun risk of loses juga paling tinggi diantara ketiga wilayah."
   ]
  },
  {
   "cell_type": "markdown",
   "metadata": {},
   "source": [
    "<div class=\"alert alert-success\">\n",
    "<b>Chamdani's comment v.1</b> <a class=\"tocSkip\"></a>\n",
    "\n",
    "Bagus, semua berjalan lancar.\n",
    "\n",
    "</div>"
   ]
  },
  {
   "cell_type": "markdown",
   "metadata": {},
   "source": [
    "### Penghitungan profit pada data real menggunakan teknik bootstrapping"
   ]
  },
  {
   "cell_type": "code",
   "execution_count": 38,
   "metadata": {},
   "outputs": [
    {
     "name": "stderr",
     "output_type": "stream",
     "text": [
      "100%|██████████| 1000/1000 [00:01<00:00, 594.26it/s]\n"
     ]
    },
    {
     "name": "stdout",
     "output_type": "stream",
     "text": [
      "-- Wilayah 0 --\n",
      "Mean Profit:  4341456.987107678 USD\n",
      "95% confidence interval: (-576180.0642516082, 9645925.33771113)\n",
      "Risk of losses : 0.049\n",
      "\n"
     ]
    },
    {
     "name": "stderr",
     "output_type": "stream",
     "text": [
      "100%|██████████| 1000/1000 [00:01<00:00, 604.86it/s]\n"
     ]
    },
    {
     "name": "stdout",
     "output_type": "stream",
     "text": [
      "-- Wilayah 1 --\n",
      "Mean Profit:  4841242.252647654 USD\n",
      "95% confidence interval: (488526.54075440543, 8966394.898976061)\n",
      "Risk of losses : 0.014\n",
      "\n"
     ]
    },
    {
     "name": "stderr",
     "output_type": "stream",
     "text": [
      "100%|██████████| 1000/1000 [00:01<00:00, 598.06it/s]"
     ]
    },
    {
     "name": "stdout",
     "output_type": "stream",
     "text": [
      "-- Wilayah 2 --\n",
      "Mean Profit:  3451884.409861117 USD\n",
      "95% confidence interval: (-1898801.4969076396, 8989624.74503065)\n",
      "Risk of losses : 0.116\n",
      "\n"
     ]
    },
    {
     "name": "stderr",
     "output_type": "stream",
     "text": [
      "\n"
     ]
    }
   ],
   "source": [
    "for wilayah in range(3):\n",
    "    \n",
    "    target = samples_target[wilayah]\n",
    "    predictions = samples_prediction[wilayah]\n",
    "    \n",
    "    profit_values = []\n",
    "    \n",
    "    for i in tqdm(range(bootstrap_size)):\n",
    "        target_sample= target.sample(n=sample_size, replace = True, random_state = state)\n",
    "        prediction_sample= predictions[target_sample.index]\n",
    "        profit_values.append(target_profit(target_sample, prediction_sample))\n",
    "        \n",
    "    profit_values = pd.Series(profit_values)\n",
    "    \n",
    "    mean_profit = profit_values.mean()\n",
    "    confidence_interval = (profit_values.quantile(0.025), profit_values.quantile(0.975))\n",
    "    negative_profit_chance = (profit_values <0).mean()\n",
    "    \n",
    "    print('-- Wilayah', wilayah, '--')\n",
    "    print('Mean Profit: ', mean_profit, 'USD')\n",
    "    print('95% confidence interval:', confidence_interval)\n",
    "    print('Risk of losses :', negative_profit_chance)\n",
    "    print()"
   ]
  },
  {
   "cell_type": "markdown",
   "metadata": {},
   "source": [
    "**Hasil Analisis**\n",
    "\n",
    "Jika menggunakan data real/target untuk menghitung Profit, maka rata-rata profit tertinggi ada pada wilayah 1 dengan risk of loses paling kecil, yaitu 0.014."
   ]
  },
  {
   "cell_type": "markdown",
   "metadata": {},
   "source": [
    "<div class=\"alert alert-success\">\n",
    "<b>Chamdani's comment v.1</b> <a class=\"tocSkip\"></a>\n",
    "\n",
    "Bagus, semua berjalan lancar.\n",
    "\n",
    "</div>"
   ]
  },
  {
   "cell_type": "markdown",
   "metadata": {},
   "source": [
    "### Perbandingan Nilai Profit pada data prediksi dan data real dengan menggunakan teknik bootstrapping"
   ]
  },
  {
   "cell_type": "markdown",
   "metadata": {},
   "source": [
    "Nilai rata-rata profit tertinggi ada di wilayah 0, baik menggunakan data prediksi maupun data real tertinggi, meskipun tingkat risk of loses berbeda."
   ]
  },
  {
   "cell_type": "markdown",
   "metadata": {},
   "source": [
    "## Kesimpulan"
   ]
  },
  {
   "cell_type": "markdown",
   "metadata": {},
   "source": [
    "Hasil dari masing-masing proses:\n",
    "\n",
    "1. Pada tahap awal, dilakukan penghitungan tingkat akurasi hasil perkiraan model Linear Regression, wilayah 1 (37.75) memiliki nilai RMSE terendah (0.89), dan memiliki perbedaan yang cukup jauh dengan wilayah 0 dan wilayah 2 (40.23). Hal ini menggambarkan bahwa angka pasti nilai average barrel yaitu diantara 67.81 (68.72-0.89) sampai dengan 69.7 (68.72+0.89)\n",
    "2. Penghitungan profit tanpa teknik bootstrapping, jika menggunakan data prediksi, wilayah 0 memiliki nilai tertinggi dengan nilai profit adalah 40M. Sedangkan, jika menggunakan data real(samples_target) nilai profit pada wilayah 0 adalah 34M. Sehingga, ada kesalahan sekitar 6M pada data prediksi.\n",
    "3. Penghitungan profit tertinggi menggunakan teknik boostrapping, jika menggunakan data prediksi, wilayah 1 memiliki nilai rata-rata profit tertinggi. Nilai rata-rata profit tertinggi jika menggunakan data real juga ada di wilayah 1 dengan nilai risk of loses (nilai profit yang mengalami kerugian atau minus) paling kecil . \n",
    "\n",
    "**Wilayah terbaik berdasarkan hasil analiiss**\n",
    "\n",
    "Dari hasil analisis, **Wilayah 1** merupakan wilayah terbaik untuk mengembangkan sumur terbaru. \n",
    "Hal ini didasarkan nilai RMSE yang kecil 0.89 dan juga risiko kerugian 0.016 yang dibawah tingkat yang diterapkan (2.5%)"
   ]
  },
  {
   "cell_type": "markdown",
   "metadata": {},
   "source": [
    "<div class=\"alert alert-success\">\n",
    "<b>Chamdani's comment v.1</b> <a class=\"tocSkip\"></a>\n",
    "\n",
    "Bagus, semua berjalan lancar.\n",
    "\n",
    "</div>"
   ]
  }
 ],
 "metadata": {
  "kernelspec": {
   "display_name": "Python 3 (ipykernel)",
   "language": "python",
   "name": "python3"
  },
  "language_info": {
   "codemirror_mode": {
    "name": "ipython",
    "version": 3
   },
   "file_extension": ".py",
   "mimetype": "text/x-python",
   "name": "python",
   "nbconvert_exporter": "python",
   "pygments_lexer": "ipython3",
   "version": "3.9.5"
  },
  "toc": {
   "base_numbering": 1,
   "nav_menu": {},
   "number_sections": true,
   "sideBar": true,
   "skip_h1_title": true,
   "title_cell": "Table of Contents",
   "title_sidebar": "Contents",
   "toc_cell": false,
   "toc_position": {
    "height": "calc(100% - 180px)",
    "left": "10px",
    "top": "150px",
    "width": "291.319px"
   },
   "toc_section_display": true,
   "toc_window_display": true
  }
 },
 "nbformat": 4,
 "nbformat_minor": 2
}
